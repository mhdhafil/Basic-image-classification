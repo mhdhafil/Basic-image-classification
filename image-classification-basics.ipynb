{
 "cells": [
  {
   "cell_type": "markdown",
   "id": "237d6ee0",
   "metadata": {
    "papermill": {
     "duration": 0.009441,
     "end_time": "2022-08-02T07:03:03.305256",
     "exception": false,
     "start_time": "2022-08-02T07:03:03.295815",
     "status": "completed"
    },
    "tags": []
   },
   "source": [
    "# Image classification\n",
    "\n"
   ]
  },
  {
   "cell_type": "markdown",
   "id": "a8f8b972",
   "metadata": {
    "papermill": {
     "duration": 0.007071,
     "end_time": "2022-08-02T07:03:03.319987",
     "exception": false,
     "start_time": "2022-08-02T07:03:03.312916",
     "status": "completed"
    },
    "tags": []
   },
   "source": [
    "### importing required libraries"
   ]
  },
  {
   "cell_type": "code",
   "execution_count": 1,
   "id": "86e18af3",
   "metadata": {
    "execution": {
     "iopub.execute_input": "2022-08-02T07:03:03.338089Z",
     "iopub.status.busy": "2022-08-02T07:03:03.336594Z",
     "iopub.status.idle": "2022-08-02T07:03:09.583151Z",
     "shell.execute_reply": "2022-08-02T07:03:09.581907Z"
    },
    "papermill": {
     "duration": 6.259238,
     "end_time": "2022-08-02T07:03:09.586624",
     "exception": false,
     "start_time": "2022-08-02T07:03:03.327386",
     "status": "completed"
    },
    "tags": []
   },
   "outputs": [],
   "source": [
    "import tensorflow as tf\n",
    "import numpy as np\n",
    "import matplotlib.pyplot as plt"
   ]
  },
  {
   "cell_type": "code",
   "execution_count": 2,
   "id": "0fb49a8b",
   "metadata": {
    "execution": {
     "iopub.execute_input": "2022-08-02T07:03:09.604346Z",
     "iopub.status.busy": "2022-08-02T07:03:09.603478Z",
     "iopub.status.idle": "2022-08-02T07:03:12.276946Z",
     "shell.execute_reply": "2022-08-02T07:03:12.275531Z"
    },
    "papermill": {
     "duration": 2.685872,
     "end_time": "2022-08-02T07:03:12.280077",
     "exception": false,
     "start_time": "2022-08-02T07:03:09.594205",
     "status": "completed"
    },
    "tags": []
   },
   "outputs": [
    {
     "name": "stdout",
     "output_type": "stream",
     "text": [
      "Downloading data from https://storage.googleapis.com/tensorflow/tf-keras-datasets/train-labels-idx1-ubyte.gz\n",
      "32768/29515 [=================================] - 0s 0us/step\n",
      "40960/29515 [=========================================] - 0s 0us/step\n",
      "Downloading data from https://storage.googleapis.com/tensorflow/tf-keras-datasets/train-images-idx3-ubyte.gz\n",
      "26427392/26421880 [==============================] - 0s 0us/step\n",
      "26435584/26421880 [==============================] - 0s 0us/step\n",
      "Downloading data from https://storage.googleapis.com/tensorflow/tf-keras-datasets/t10k-labels-idx1-ubyte.gz\n",
      "16384/5148 [===============================================================================================] - 0s 0us/step\n",
      "Downloading data from https://storage.googleapis.com/tensorflow/tf-keras-datasets/t10k-images-idx3-ubyte.gz\n",
      "4423680/4422102 [==============================] - 0s 0us/step\n",
      "4431872/4422102 [==============================] - 0s 0us/step\n"
     ]
    }
   ],
   "source": [
    "# import fashion MNIST dataset\n",
    "fashion_mnist = tf.keras.datasets.fashion_mnist\n",
    "(train_images, train_labels), (test_images, test_labels) = fashion_mnist.load_data()"
   ]
  },
  {
   "cell_type": "code",
   "execution_count": 3,
   "id": "d03eb290",
   "metadata": {
    "execution": {
     "iopub.execute_input": "2022-08-02T07:03:12.299583Z",
     "iopub.status.busy": "2022-08-02T07:03:12.299036Z",
     "iopub.status.idle": "2022-08-02T07:03:12.305107Z",
     "shell.execute_reply": "2022-08-02T07:03:12.303822Z"
    },
    "papermill": {
     "duration": 0.018702,
     "end_time": "2022-08-02T07:03:12.307621",
     "exception": false,
     "start_time": "2022-08-02T07:03:12.288919",
     "status": "completed"
    },
    "tags": []
   },
   "outputs": [],
   "source": [
    "# Class names of each images in the dataset\n",
    "class_names = ['T-shirt/top', 'Trouser', 'Pullover', 'Dress', 'Coat',\n",
    "               'Sandal', 'Shirt', 'Sneaker', 'Bag', 'Ankle boot']"
   ]
  },
  {
   "cell_type": "code",
   "execution_count": 4,
   "id": "98228d48",
   "metadata": {
    "execution": {
     "iopub.execute_input": "2022-08-02T07:03:12.326600Z",
     "iopub.status.busy": "2022-08-02T07:03:12.326003Z",
     "iopub.status.idle": "2022-08-02T07:03:12.335892Z",
     "shell.execute_reply": "2022-08-02T07:03:12.334631Z"
    },
    "papermill": {
     "duration": 0.022632,
     "end_time": "2022-08-02T07:03:12.338628",
     "exception": false,
     "start_time": "2022-08-02T07:03:12.315996",
     "status": "completed"
    },
    "tags": []
   },
   "outputs": [
    {
     "data": {
      "text/plain": [
       "(60000, 28, 28)"
      ]
     },
     "execution_count": 4,
     "metadata": {},
     "output_type": "execute_result"
    }
   ],
   "source": [
    "# we have 60000 images for train a model with 28x28 diamension\n",
    "train_images.shape"
   ]
  },
  {
   "cell_type": "code",
   "execution_count": 5,
   "id": "653c8152",
   "metadata": {
    "execution": {
     "iopub.execute_input": "2022-08-02T07:03:12.358167Z",
     "iopub.status.busy": "2022-08-02T07:03:12.357668Z",
     "iopub.status.idle": "2022-08-02T07:03:12.363546Z",
     "shell.execute_reply": "2022-08-02T07:03:12.362542Z"
    },
    "papermill": {
     "duration": 0.018967,
     "end_time": "2022-08-02T07:03:12.366296",
     "exception": false,
     "start_time": "2022-08-02T07:03:12.347329",
     "status": "completed"
    },
    "tags": []
   },
   "outputs": [
    {
     "data": {
      "text/plain": [
       "60000"
      ]
     },
     "execution_count": 5,
     "metadata": {},
     "output_type": "execute_result"
    }
   ],
   "source": [
    "# 60000 labels each for images in train_images\n",
    "len(train_labels)"
   ]
  },
  {
   "cell_type": "code",
   "execution_count": 6,
   "id": "da4c1033",
   "metadata": {
    "execution": {
     "iopub.execute_input": "2022-08-02T07:03:12.386116Z",
     "iopub.status.busy": "2022-08-02T07:03:12.385324Z",
     "iopub.status.idle": "2022-08-02T07:03:12.395721Z",
     "shell.execute_reply": "2022-08-02T07:03:12.394808Z"
    },
    "papermill": {
     "duration": 0.023333,
     "end_time": "2022-08-02T07:03:12.398272",
     "exception": false,
     "start_time": "2022-08-02T07:03:12.374939",
     "status": "completed"
    },
    "tags": []
   },
   "outputs": [
    {
     "data": {
      "text/plain": [
       "array([9, 0, 0, ..., 3, 0, 5], dtype=uint8)"
      ]
     },
     "execution_count": 6,
     "metadata": {},
     "output_type": "execute_result"
    }
   ],
   "source": [
    "# train_labels contains the number from 1 to 9, each number points a label of images in train_images\n",
    "train_labels"
   ]
  },
  {
   "cell_type": "code",
   "execution_count": 7,
   "id": "e14e40ea",
   "metadata": {
    "execution": {
     "iopub.execute_input": "2022-08-02T07:03:12.417711Z",
     "iopub.status.busy": "2022-08-02T07:03:12.417219Z",
     "iopub.status.idle": "2022-08-02T07:03:12.423467Z",
     "shell.execute_reply": "2022-08-02T07:03:12.422485Z"
    },
    "papermill": {
     "duration": 0.019163,
     "end_time": "2022-08-02T07:03:12.425976",
     "exception": false,
     "start_time": "2022-08-02T07:03:12.406813",
     "status": "completed"
    },
    "tags": []
   },
   "outputs": [
    {
     "data": {
      "text/plain": [
       "(10000, 28, 28)"
      ]
     },
     "execution_count": 7,
     "metadata": {},
     "output_type": "execute_result"
    }
   ],
   "source": [
    "# for testing the model, there is 10000 images of 28x28 diamension\n",
    "test_images.shape"
   ]
  },
  {
   "cell_type": "code",
   "execution_count": 8,
   "id": "3b17569f",
   "metadata": {
    "execution": {
     "iopub.execute_input": "2022-08-02T07:03:12.447282Z",
     "iopub.status.busy": "2022-08-02T07:03:12.446553Z",
     "iopub.status.idle": "2022-08-02T07:03:12.452315Z",
     "shell.execute_reply": "2022-08-02T07:03:12.451479Z"
    },
    "papermill": {
     "duration": 0.018619,
     "end_time": "2022-08-02T07:03:12.454492",
     "exception": false,
     "start_time": "2022-08-02T07:03:12.435873",
     "status": "completed"
    },
    "tags": []
   },
   "outputs": [
    {
     "data": {
      "text/plain": [
       "10000"
      ]
     },
     "execution_count": 8,
     "metadata": {},
     "output_type": "execute_result"
    }
   ],
   "source": [
    "# 10000 labels each for images in the test_images\n",
    "len(test_labels)"
   ]
  },
  {
   "cell_type": "code",
   "execution_count": 9,
   "id": "9293c791",
   "metadata": {
    "execution": {
     "iopub.execute_input": "2022-08-02T07:03:12.474807Z",
     "iopub.status.busy": "2022-08-02T07:03:12.474082Z",
     "iopub.status.idle": "2022-08-02T07:03:12.782568Z",
     "shell.execute_reply": "2022-08-02T07:03:12.780947Z"
    },
    "papermill": {
     "duration": 0.322123,
     "end_time": "2022-08-02T07:03:12.785473",
     "exception": false,
     "start_time": "2022-08-02T07:03:12.463350",
     "status": "completed"
    },
    "tags": []
   },
   "outputs": [
    {
     "data": {
      "image/png": "[encoded data removed]",
      "text/plain": [
       "<Figure size 432x288 with 2 Axes>"
      ]
     },
     "metadata": {
      "needs_background": "light"
     },
     "output_type": "display_data"
    }
   ],
   "source": [
    "# It is the plot of first image in the train_image usign matplotlib (plt)\n",
    "plt.figure()\n",
    "plt.imshow(train_images[0])\n",
    "plt.colorbar()\n",
    "plt.grid(False)\n",
    "plt.show()"
   ]
  },
  {
   "cell_type": "code",
   "execution_count": 10,
   "id": "8c82d5ea",
   "metadata": {
    "execution": {
     "iopub.execute_input": "2022-08-02T07:03:12.805948Z",
     "iopub.status.busy": "2022-08-02T07:03:12.805475Z",
     "iopub.status.idle": "2022-08-02T07:03:13.079347Z",
     "shell.execute_reply": "2022-08-02T07:03:13.078061Z"
    },
    "papermill": {
     "duration": 0.287963,
     "end_time": "2022-08-02T07:03:13.082672",
     "exception": false,
     "start_time": "2022-08-02T07:03:12.794709",
     "status": "completed"
    },
    "tags": []
   },
   "outputs": [],
   "source": [
    "# normalizing the pixels values to the scale of 0 to 1\n",
    "train_images = train_images/255.0\n",
    "test_images = test_images/255.0"
   ]
  },
  {
   "cell_type": "code",
   "execution_count": 11,
   "id": "c8cab587",
   "metadata": {
    "execution": {
     "iopub.execute_input": "2022-08-02T07:03:13.104206Z",
     "iopub.status.busy": "2022-08-02T07:03:13.103214Z",
     "iopub.status.idle": "2022-08-02T07:03:14.428265Z",
     "shell.execute_reply": "2022-08-02T07:03:14.426933Z"
    },
    "papermill": {
     "duration": 1.339313,
     "end_time": "2022-08-02T07:03:14.431374",
     "exception": false,
     "start_time": "2022-08-02T07:03:13.092061",
     "status": "completed"
    },
    "tags": []
   },
   "outputs": [
    {
     "data": {
      "image/png": "[encoded data removed]",
      "text/plain": [
       "<Figure size 720x720 with 25 Axes>"
      ]
     },
     "metadata": {},
     "output_type": "display_data"
    }
   ],
   "source": [
    "# ploting some images in the train_imges with label using matplotlib(plt), here we plots first 25 images\n",
    "plt.figure(figsize=(10, 10))\n",
    "for i in range(25):\n",
    "    plt.subplot(5,5,i+1)\n",
    "    plt.xticks([])\n",
    "    plt.yticks([])\n",
    "    plt.grid(False)\n",
    "    plt.imshow(train_images[i], cmap=plt.cm.binary)\n",
    "    plt.xlabel(class_names[train_labels[i]])\n",
    "    \n",
    "plt.show()"
   ]
  },
  {
   "cell_type": "code",
   "execution_count": 12,
   "id": "e5124915",
   "metadata": {
    "execution": {
     "iopub.execute_input": "2022-08-02T07:03:14.454114Z",
     "iopub.status.busy": "2022-08-02T07:03:14.453640Z",
     "iopub.status.idle": "2022-08-02T07:03:14.584616Z",
     "shell.execute_reply": "2022-08-02T07:03:14.583140Z"
    },
    "papermill": {
     "duration": 0.146042,
     "end_time": "2022-08-02T07:03:14.587830",
     "exception": false,
     "start_time": "2022-08-02T07:03:14.441788",
     "status": "completed"
    },
    "tags": []
   },
   "outputs": [
    {
     "name": "stderr",
     "output_type": "stream",
     "text": [
      "2022-08-02 07:03:14.501327: I tensorflow/core/common_runtime/process_util.cc:146] Creating new thread pool with default inter op setting: 2. Tune using inter_op_parallelism_threads for best performance.\n"
     ]
    }
   ],
   "source": [
    "# building a Sequential model using Tensorflow (tf)\n",
    "model = tf.keras.Sequential([\n",
    "    tf.keras.layers.Flatten(input_shape=(28, 28)),\n",
    "    tf.keras.layers.Dense(128, activation='relu'),\n",
    "    tf.keras.layers.Dense(10)\n",
    "])"
   ]
  },
  {
   "cell_type": "code",
   "execution_count": 13,
   "id": "7d07935c",
   "metadata": {
    "execution": {
     "iopub.execute_input": "2022-08-02T07:03:14.618871Z",
     "iopub.status.busy": "2022-08-02T07:03:14.617943Z",
     "iopub.status.idle": "2022-08-02T07:03:14.635200Z",
     "shell.execute_reply": "2022-08-02T07:03:14.633912Z"
    },
    "papermill": {
     "duration": 0.03391,
     "end_time": "2022-08-02T07:03:14.638380",
     "exception": false,
     "start_time": "2022-08-02T07:03:14.604470",
     "status": "completed"
    },
    "tags": []
   },
   "outputs": [],
   "source": [
    "# compiling the model\n",
    "model.compile(optimizer='adam',\n",
    "             loss=tf.keras.losses.SparseCategoricalCrossentropy(from_logits=True),\n",
    "             metrics=['accuracy'])"
   ]
  },
  {
   "cell_type": "code",
   "execution_count": 14,
   "id": "5de4ae30",
   "metadata": {
    "execution": {
     "iopub.execute_input": "2022-08-02T07:03:14.661980Z",
     "iopub.status.busy": "2022-08-02T07:03:14.661013Z",
     "iopub.status.idle": "2022-08-02T07:04:37.656932Z",
     "shell.execute_reply": "2022-08-02T07:04:37.655294Z"
    },
    "papermill": {
     "duration": 83.075694,
     "end_time": "2022-08-02T07:04:37.724613",
     "exception": false,
     "start_time": "2022-08-02T07:03:14.648919",
     "status": "completed"
    },
    "tags": []
   },
   "outputs": [
    {
     "name": "stderr",
     "output_type": "stream",
     "text": [
      "2022-08-02 07:03:15.200348: I tensorflow/compiler/mlir/mlir_graph_optimization_pass.cc:185] None of the MLIR Optimization Passes are enabled (registered 2)\n"
     ]
    },
    {
     "name": "stdout",
     "output_type": "stream",
     "text": [
      "Epoch 1/10\n",
      "1875/1875 [==============================] - 6s 3ms/step - loss: 0.4993 - accuracy: 0.8248\n",
      "Epoch 2/10\n",
      "1875/1875 [==============================] - 5s 3ms/step - loss: 0.3742 - accuracy: 0.8653\n",
      "Epoch 3/10\n",
      "1875/1875 [==============================] - 5s 3ms/step - loss: 0.3360 - accuracy: 0.8763\n",
      "Epoch 4/10\n",
      "1875/1875 [==============================] - 5s 2ms/step - loss: 0.3139 - accuracy: 0.8845\n",
      "Epoch 5/10\n",
      "1875/1875 [==============================] - 4s 2ms/step - loss: 0.2953 - accuracy: 0.8910\n",
      "Epoch 6/10\n",
      "1875/1875 [==============================] - 4s 2ms/step - loss: 0.2815 - accuracy: 0.8956\n",
      "Epoch 7/10\n",
      "1875/1875 [==============================] - 5s 2ms/step - loss: 0.2691 - accuracy: 0.8996\n",
      "Epoch 8/10\n",
      "1875/1875 [==============================] - 5s 3ms/step - loss: 0.2573 - accuracy: 0.9053\n",
      "Epoch 9/10\n",
      "1875/1875 [==============================] - 5s 3ms/step - loss: 0.2502 - accuracy: 0.9058\n",
      "Epoch 10/10\n",
      "1875/1875 [==============================] - 5s 3ms/step - loss: 0.2370 - accuracy: 0.9119\n"
     ]
    },
    {
     "data": {
      "text/plain": [
       "<keras.callbacks.History at 0x7f7d502d6c50>"
      ]
     },
     "execution_count": 14,
     "metadata": {},
     "output_type": "execute_result"
    }
   ],
   "source": [
    "# fitting training data to train the model\n",
    "model.fit(train_images, train_labels, epochs=10)"
   ]
  },
  {
   "cell_type": "code",
   "execution_count": 15,
   "id": "f157c8e1",
   "metadata": {
    "execution": {
     "iopub.execute_input": "2022-08-02T07:04:37.859682Z",
     "iopub.status.busy": "2022-08-02T07:04:37.858832Z",
     "iopub.status.idle": "2022-08-02T07:04:38.592911Z",
     "shell.execute_reply": "2022-08-02T07:04:38.591404Z"
    },
    "papermill": {
     "duration": 0.804938,
     "end_time": "2022-08-02T07:04:38.595808",
     "exception": false,
     "start_time": "2022-08-02T07:04:37.790870",
     "status": "completed"
    },
    "tags": []
   },
   "outputs": [
    {
     "name": "stdout",
     "output_type": "stream",
     "text": [
      "313/313 - 1s - loss: 0.3696 - accuracy: 0.8745\n"
     ]
    }
   ],
   "source": [
    "# Evaluate the model\n",
    "test_loss, test_acc = model.evaluate(test_images, test_labels, verbose=2)"
   ]
  },
  {
   "cell_type": "markdown",
   "id": "036548d1",
   "metadata": {
    "papermill": {
     "duration": 0.068044,
     "end_time": "2022-08-02T07:04:38.731820",
     "exception": false,
     "start_time": "2022-08-02T07:04:38.663776",
     "status": "completed"
    },
    "tags": []
   },
   "source": [
    "### Making predictions "
   ]
  },
  {
   "cell_type": "code",
   "execution_count": 16,
   "id": "1212d063",
   "metadata": {
    "execution": {
     "iopub.execute_input": "2022-08-02T07:04:38.877640Z",
     "iopub.status.busy": "2022-08-02T07:04:38.876770Z",
     "iopub.status.idle": "2022-08-02T07:04:38.902031Z",
     "shell.execute_reply": "2022-08-02T07:04:38.900976Z"
    },
    "papermill": {
     "duration": 0.103385,
     "end_time": "2022-08-02T07:04:38.905036",
     "exception": false,
     "start_time": "2022-08-02T07:04:38.801651",
     "status": "completed"
    },
    "tags": []
   },
   "outputs": [],
   "source": [
    "# make predictions using softmax probability\n",
    "probability_model = tf.keras.Sequential([model, \n",
    "                                         tf.keras.layers.Softmax()])"
   ]
  },
  {
   "cell_type": "code",
   "execution_count": 17,
   "id": "708cb2fb",
   "metadata": {
    "execution": {
     "iopub.execute_input": "2022-08-02T07:04:39.051669Z",
     "iopub.status.busy": "2022-08-02T07:04:39.050712Z",
     "iopub.status.idle": "2022-08-02T07:04:39.612760Z",
     "shell.execute_reply": "2022-08-02T07:04:39.611762Z"
    },
    "papermill": {
     "duration": 0.636013,
     "end_time": "2022-08-02T07:04:39.615657",
     "exception": false,
     "start_time": "2022-08-02T07:04:38.979644",
     "status": "completed"
    },
    "tags": []
   },
   "outputs": [],
   "source": [
    "predictions = probability_model.predict(test_images)"
   ]
  },
  {
   "cell_type": "code",
   "execution_count": 18,
   "id": "2c98d55b",
   "metadata": {
    "execution": {
     "iopub.execute_input": "2022-08-02T07:04:39.755716Z",
     "iopub.status.busy": "2022-08-02T07:04:39.755001Z",
     "iopub.status.idle": "2022-08-02T07:04:39.762101Z",
     "shell.execute_reply": "2022-08-02T07:04:39.760975Z"
    },
    "papermill": {
     "duration": 0.079782,
     "end_time": "2022-08-02T07:04:39.764364",
     "exception": false,
     "start_time": "2022-08-02T07:04:39.684582",
     "status": "completed"
    },
    "tags": []
   },
   "outputs": [
    {
     "data": {
      "text/plain": [
       "array([2.6930335e-05, 1.5346276e-10, 2.2135561e-07, 1.1815648e-10,\n",
       "       1.1574983e-07, 1.3438741e-02, 8.3329833e-06, 8.5520130e-03,\n",
       "       2.1862874e-08, 9.7797364e-01], dtype=float32)"
      ]
     },
     "execution_count": 18,
     "metadata": {},
     "output_type": "execute_result"
    }
   ],
   "source": [
    "predictions[0]"
   ]
  },
  {
   "cell_type": "markdown",
   "id": "15f1077f",
   "metadata": {
    "papermill": {
     "duration": 0.085681,
     "end_time": "2022-08-02T07:04:39.918925",
     "exception": false,
     "start_time": "2022-08-02T07:04:39.833244",
     "status": "completed"
    },
    "tags": []
   },
   "source": [
    "A prediction is an array of 10 numbers. They represent the model's \"confidence\" that the image corresponds to each of the 10 different articles of clothing. You can see which label has the highest confidence value:"
   ]
  },
  {
   "cell_type": "code",
   "execution_count": 19,
   "id": "9fd72b2d",
   "metadata": {
    "execution": {
     "iopub.execute_input": "2022-08-02T07:04:40.076327Z",
     "iopub.status.busy": "2022-08-02T07:04:40.075613Z",
     "iopub.status.idle": "2022-08-02T07:04:40.081944Z",
     "shell.execute_reply": "2022-08-02T07:04:40.081107Z"
    },
    "papermill": {
     "duration": 0.082075,
     "end_time": "2022-08-02T07:04:40.084179",
     "exception": false,
     "start_time": "2022-08-02T07:04:40.002104",
     "status": "completed"
    },
    "tags": []
   },
   "outputs": [
    {
     "data": {
      "text/plain": [
       "9"
      ]
     },
     "execution_count": 19,
     "metadata": {},
     "output_type": "execute_result"
    }
   ],
   "source": [
    "np.argmax(predictions[0])"
   ]
  },
  {
   "cell_type": "markdown",
   "id": "e0b5590f",
   "metadata": {
    "papermill": {
     "duration": 0.069689,
     "end_time": "2022-08-02T07:04:40.223005",
     "exception": false,
     "start_time": "2022-08-02T07:04:40.153316",
     "status": "completed"
    },
    "tags": []
   },
   "source": [
    "This prediction points to class 9 (ankle boot)"
   ]
  },
  {
   "cell_type": "code",
   "execution_count": 20,
   "id": "a1dd3f69",
   "metadata": {
    "execution": {
     "iopub.execute_input": "2022-08-02T07:04:40.363449Z",
     "iopub.status.busy": "2022-08-02T07:04:40.362715Z",
     "iopub.status.idle": "2022-08-02T07:04:40.368899Z",
     "shell.execute_reply": "2022-08-02T07:04:40.367922Z"
    },
    "papermill": {
     "duration": 0.079249,
     "end_time": "2022-08-02T07:04:40.371156",
     "exception": false,
     "start_time": "2022-08-02T07:04:40.291907",
     "status": "completed"
    },
    "tags": []
   },
   "outputs": [
    {
     "data": {
      "text/plain": [
       "9"
      ]
     },
     "execution_count": 20,
     "metadata": {},
     "output_type": "execute_result"
    }
   ],
   "source": [
    "test_labels[0]"
   ]
  },
  {
   "cell_type": "code",
   "execution_count": 21,
   "id": "d63cb833",
   "metadata": {
    "execution": {
     "iopub.execute_input": "2022-08-02T07:04:40.512322Z",
     "iopub.status.busy": "2022-08-02T07:04:40.511262Z",
     "iopub.status.idle": "2022-08-02T07:04:40.521365Z",
     "shell.execute_reply": "2022-08-02T07:04:40.520353Z"
    },
    "papermill": {
     "duration": 0.083385,
     "end_time": "2022-08-02T07:04:40.524100",
     "exception": false,
     "start_time": "2022-08-02T07:04:40.440715",
     "status": "completed"
    },
    "tags": []
   },
   "outputs": [],
   "source": [
    "# defining a function for ploting the image with predicted label and actual label\n",
    "def plot_image(i, predictions_array, true_label, img):\n",
    "  true_label, img = true_label[i], img[i]\n",
    "  plt.grid(False)\n",
    "  plt.xticks([])\n",
    "  plt.yticks([])\n",
    "\n",
    "  plt.imshow(img, cmap=plt.cm.binary)\n",
    "\n",
    "  predicted_label = np.argmax(predictions_array)\n",
    "  if predicted_label == true_label:\n",
    "    color = 'blue'\n",
    "  else:\n",
    "    color = 'red'\n",
    "\n",
    "  plt.xlabel(\"{} {:2.0f}% ({})\".format(class_names[predicted_label],\n",
    "                                100*np.max(predictions_array),\n",
    "                                class_names[true_label]),\n",
    "                                color=color)\n",
    "\n",
    "\n",
    "# defining a function to plot the prediction using a bar plot, \n",
    "# for prediction --> red bar, actual label --> blue bar, \n",
    "def plot_value_array(i, predictions_array, true_label):\n",
    "  true_label = true_label[i]\n",
    "  plt.grid(False)\n",
    "  plt.xticks(range(10))\n",
    "  plt.yticks([])\n",
    "  thisplot = plt.bar(range(10), predictions_array, color=\"#777777\")\n",
    "  plt.ylim([0, 1])\n",
    "  predicted_label = np.argmax(predictions_array)\n",
    "\n",
    "  thisplot[predicted_label].set_color('red')\n",
    "  thisplot[true_label].set_color('blue')"
   ]
  },
  {
   "cell_type": "code",
   "execution_count": 22,
   "id": "c01a42ad",
   "metadata": {
    "execution": {
     "iopub.execute_input": "2022-08-02T07:04:40.665560Z",
     "iopub.status.busy": "2022-08-02T07:04:40.664699Z",
     "iopub.status.idle": "2022-08-02T07:04:40.866667Z",
     "shell.execute_reply": "2022-08-02T07:04:40.864807Z"
    },
    "papermill": {
     "duration": 0.278254,
     "end_time": "2022-08-02T07:04:40.871442",
     "exception": false,
     "start_time": "2022-08-02T07:04:40.593188",
     "status": "completed"
    },
    "tags": []
   },
   "outputs": [
    {
     "data": {
      "image/png": "[encoded data removed]",
      "text/plain": [
       "<Figure size 432x216 with 2 Axes>"
      ]
     },
     "metadata": {
      "needs_background": "light"
     },
     "output_type": "display_data"
    }
   ],
   "source": [
    "# ploting the prediction of first element in the test_images\n",
    "i = 0\n",
    "plt.figure(figsize=(6,3))\n",
    "plt.subplot(1,2,1)\n",
    "plot_image(i, predictions[i], test_labels, test_images)\n",
    "plt.subplot(1,2,2)\n",
    "plot_value_array(i, predictions[i],  test_labels)\n",
    "plt.show()"
   ]
  },
  {
   "cell_type": "code",
   "execution_count": 23,
   "id": "9eb91343",
   "metadata": {
    "execution": {
     "iopub.execute_input": "2022-08-02T07:04:41.034873Z",
     "iopub.status.busy": "2022-08-02T07:04:41.034314Z",
     "iopub.status.idle": "2022-08-02T07:04:41.237896Z",
     "shell.execute_reply": "2022-08-02T07:04:41.236075Z"
    },
    "papermill": {
     "duration": 0.281273,
     "end_time": "2022-08-02T07:04:41.243740",
     "exception": false,
     "start_time": "2022-08-02T07:04:40.962467",
     "status": "completed"
    },
    "tags": []
   },
   "outputs": [
    {
     "data": {
      "image/png": "[encoded data removed]",
      "text/plain": [
       "<Figure size 432x216 with 2 Axes>"
      ]
     },
     "metadata": {
      "needs_background": "light"
     },
     "output_type": "display_data"
    }
   ],
   "source": [
    "# ploting the prediction of 13th element in the test_images\n",
    "i = 12\n",
    "plt.figure(figsize=(6,3))\n",
    "plt.subplot(1,2,1)\n",
    "plot_image(i, predictions[i], test_labels, test_images)\n",
    "plt.subplot(1,2,2)\n",
    "plot_value_array(i, predictions[i],  test_labels)\n",
    "plt.show()"
   ]
  },
  {
   "cell_type": "code",
   "execution_count": 24,
   "id": "c690bb22",
   "metadata": {
    "execution": {
     "iopub.execute_input": "2022-08-02T07:04:41.406686Z",
     "iopub.status.busy": "2022-08-02T07:04:41.405779Z",
     "iopub.status.idle": "2022-08-02T07:04:44.759035Z",
     "shell.execute_reply": "2022-08-02T07:04:44.757938Z"
    },
    "papermill": {
     "duration": 3.428914,
     "end_time": "2022-08-02T07:04:44.761813",
     "exception": false,
     "start_time": "2022-08-02T07:04:41.332899",
     "status": "completed"
    },
    "tags": []
   },
   "outputs": [
    {
     "data": {
      "image/png": "[encoded data removed]",
      "text/plain": [
       "<Figure size 1152x720 with 40 Axes>"
      ]
     },
     "metadata": {
      "needs_background": "light"
     },
     "output_type": "display_data"
    }
   ],
   "source": [
    "# Plot the first X test images, their predicted labels, and the true labels.\n",
    "# Color correct predictions in blue and incorrect predictions in red.\n",
    "num_rows = 5\n",
    "num_cols = 4\n",
    "num_images = num_rows*num_cols\n",
    "plt.figure(figsize=(2*2*num_cols, 2*num_rows))\n",
    "for i in range(num_images):\n",
    "  plt.subplot(num_rows, 2*num_cols, 2*i+1)\n",
    "  plot_image(i, predictions[i], test_labels, test_images)\n",
    "  plt.subplot(num_rows, 2*num_cols, 2*i+2)\n",
    "  plot_value_array(i, predictions[i], test_labels)\n",
    "plt.tight_layout()\n",
    "plt.show()"
   ]
  },
  {
   "cell_type": "markdown",
   "id": "daff398b",
   "metadata": {
    "papermill": {
     "duration": 0.070472,
     "end_time": "2022-08-02T07:04:44.904031",
     "exception": false,
     "start_time": "2022-08-02T07:04:44.833559",
     "status": "completed"
    },
    "tags": []
   },
   "source": [
    "This note is reffered from Tensorflow tutorials page"
   ]
  }
 ],
 "metadata": {
  "kernelspec": {
   "display_name": "Python 3",
   "language": "python",
   "name": "python3"
  },
  "language_info": {
   "codemirror_mode": {
    "name": "ipython",
    "version": 3
   },
   "file_extension": ".py",
   "mimetype": "text/x-python",
   "name": "python",
   "nbconvert_exporter": "python",
   "pygments_lexer": "ipython3",
   "version": "3.7.12"
  },
  "papermill": {
   "default_parameters": {},
   "duration": 115.88837,
   "end_time": "2022-08-02T07:04:48.175038",
   "environment_variables": {},
   "exception": null,
   "input_path": "__notebook__.ipynb",
   "output_path": "__notebook__.ipynb",
   "parameters": {},
   "start_time": "2022-08-02T07:02:52.286668",
   "version": "2.3.4"
  }
 },
 "nbformat": 4,
 "nbformat_minor": 5
}
