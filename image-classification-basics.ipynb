{
 "cells": [
  {
   "cell_type": "markdown",
   "id": "ec58e8d0",
   "metadata": {
    "papermill": {
     "duration": 0.007871,
     "end_time": "2022-08-02T04:19:53.462361",
     "exception": false,
     "start_time": "2022-08-02T04:19:53.454490",
     "status": "completed"
    },
    "tags": []
   },
   "source": [
    "# Image classification\n",
    "\n"
   ]
  },
  {
   "cell_type": "code",
   "execution_count": 1,
   "id": "43cf2be6",
   "metadata": {
    "execution": {
     "iopub.execute_input": "2022-08-02T04:19:53.477900Z",
     "iopub.status.busy": "2022-08-02T04:19:53.476932Z",
     "iopub.status.idle": "2022-08-02T04:19:58.737010Z",
     "shell.execute_reply": "2022-08-02T04:19:58.736010Z"
    },
    "papermill": {
     "duration": 5.271096,
     "end_time": "2022-08-02T04:19:58.739877",
     "exception": false,
     "start_time": "2022-08-02T04:19:53.468781",
     "status": "completed"
    },
    "tags": []
   },
   "outputs": [],
   "source": [
    "import tensorflow as tf\n",
    "import numpy as np\n",
    "import matplotlib.pyplot as plt"
   ]
  },
  {
   "cell_type": "code",
   "execution_count": 2,
   "id": "73db656f",
   "metadata": {
    "execution": {
     "iopub.execute_input": "2022-08-02T04:19:58.756057Z",
     "iopub.status.busy": "2022-08-02T04:19:58.754638Z",
     "iopub.status.idle": "2022-08-02T04:20:01.915922Z",
     "shell.execute_reply": "2022-08-02T04:20:01.914841Z"
    },
    "papermill": {
     "duration": 3.172073,
     "end_time": "2022-08-02T04:20:01.918833",
     "exception": false,
     "start_time": "2022-08-02T04:19:58.746760",
     "status": "completed"
    },
    "tags": []
   },
   "outputs": [
    {
     "name": "stdout",
     "output_type": "stream",
     "text": [
      "Downloading data from https://storage.googleapis.com/tensorflow/tf-keras-datasets/train-labels-idx1-ubyte.gz\n",
      "32768/29515 [=================================] - 0s 0us/step\n",
      "40960/29515 [=========================================] - 0s 0us/step\n",
      "Downloading data from https://storage.googleapis.com/tensorflow/tf-keras-datasets/train-images-idx3-ubyte.gz\n",
      "26427392/26421880 [==============================] - 0s 0us/step\n",
      "26435584/26421880 [==============================] - 0s 0us/step\n",
      "Downloading data from https://storage.googleapis.com/tensorflow/tf-keras-datasets/t10k-labels-idx1-ubyte.gz\n",
      "16384/5148 [===============================================================================================] - 0s 0us/step\n",
      "Downloading data from https://storage.googleapis.com/tensorflow/tf-keras-datasets/t10k-images-idx3-ubyte.gz\n",
      "4423680/4422102 [==============================] - 0s 0us/step\n",
      "4431872/4422102 [==============================] - 0s 0us/step\n"
     ]
    }
   ],
   "source": [
    "# import fashion MNIST dataset\n",
    "fashion_mnist = tf.keras.datasets.fashion_mnist\n",
    "(train_images, train_labels), (test_images, test_labels) = fashion_mnist.load_data()"
   ]
  },
  {
   "cell_type": "code",
   "execution_count": 3,
   "id": "8bcdeb83",
   "metadata": {
    "execution": {
     "iopub.execute_input": "2022-08-02T04:20:01.936768Z",
     "iopub.status.busy": "2022-08-02T04:20:01.936315Z",
     "iopub.status.idle": "2022-08-02T04:20:01.941555Z",
     "shell.execute_reply": "2022-08-02T04:20:01.940346Z"
    },
    "papermill": {
     "duration": 0.017331,
     "end_time": "2022-08-02T04:20:01.944257",
     "exception": false,
     "start_time": "2022-08-02T04:20:01.926926",
     "status": "completed"
    },
    "tags": []
   },
   "outputs": [],
   "source": [
    "class_names = ['T-shirt/top', 'Trouser', 'Pullover', 'Dress', 'Coat',\n",
    "               'Sandal', 'Shirt', 'Sneaker', 'Bag', 'Ankle boot']"
   ]
  },
  {
   "cell_type": "code",
   "execution_count": 4,
   "id": "79259280",
   "metadata": {
    "execution": {
     "iopub.execute_input": "2022-08-02T04:20:01.961020Z",
     "iopub.status.busy": "2022-08-02T04:20:01.960631Z",
     "iopub.status.idle": "2022-08-02T04:20:01.970599Z",
     "shell.execute_reply": "2022-08-02T04:20:01.969120Z"
    },
    "papermill": {
     "duration": 0.021052,
     "end_time": "2022-08-02T04:20:01.973001",
     "exception": false,
     "start_time": "2022-08-02T04:20:01.951949",
     "status": "completed"
    },
    "tags": []
   },
   "outputs": [
    {
     "data": {
      "text/plain": [
       "(60000, 28, 28)"
      ]
     },
     "execution_count": 4,
     "metadata": {},
     "output_type": "execute_result"
    }
   ],
   "source": [
    "train_images.shape"
   ]
  },
  {
   "cell_type": "code",
   "execution_count": 5,
   "id": "f3b5e4bf",
   "metadata": {
    "execution": {
     "iopub.execute_input": "2022-08-02T04:20:01.991122Z",
     "iopub.status.busy": "2022-08-02T04:20:01.990319Z",
     "iopub.status.idle": "2022-08-02T04:20:01.997505Z",
     "shell.execute_reply": "2022-08-02T04:20:01.996070Z"
    },
    "papermill": {
     "duration": 0.019473,
     "end_time": "2022-08-02T04:20:02.000363",
     "exception": false,
     "start_time": "2022-08-02T04:20:01.980890",
     "status": "completed"
    },
    "tags": []
   },
   "outputs": [
    {
     "data": {
      "text/plain": [
       "60000"
      ]
     },
     "execution_count": 5,
     "metadata": {},
     "output_type": "execute_result"
    }
   ],
   "source": [
    "len(train_labels)"
   ]
  },
  {
   "cell_type": "code",
   "execution_count": 6,
   "id": "6d357a34",
   "metadata": {
    "execution": {
     "iopub.execute_input": "2022-08-02T04:20:02.018811Z",
     "iopub.status.busy": "2022-08-02T04:20:02.018384Z",
     "iopub.status.idle": "2022-08-02T04:20:02.027206Z",
     "shell.execute_reply": "2022-08-02T04:20:02.026269Z"
    },
    "papermill": {
     "duration": 0.020798,
     "end_time": "2022-08-02T04:20:02.029512",
     "exception": false,
     "start_time": "2022-08-02T04:20:02.008714",
     "status": "completed"
    },
    "tags": []
   },
   "outputs": [
    {
     "data": {
      "text/plain": [
       "array([9, 0, 0, ..., 3, 0, 5], dtype=uint8)"
      ]
     },
     "execution_count": 6,
     "metadata": {},
     "output_type": "execute_result"
    }
   ],
   "source": [
    "train_labels"
   ]
  },
  {
   "cell_type": "code",
   "execution_count": 7,
   "id": "a3f5df4c",
   "metadata": {
    "execution": {
     "iopub.execute_input": "2022-08-02T04:20:02.047766Z",
     "iopub.status.busy": "2022-08-02T04:20:02.047048Z",
     "iopub.status.idle": "2022-08-02T04:20:02.053200Z",
     "shell.execute_reply": "2022-08-02T04:20:02.052330Z"
    },
    "papermill": {
     "duration": 0.017849,
     "end_time": "2022-08-02T04:20:02.055520",
     "exception": false,
     "start_time": "2022-08-02T04:20:02.037671",
     "status": "completed"
    },
    "tags": []
   },
   "outputs": [
    {
     "data": {
      "text/plain": [
       "(10000, 28, 28)"
      ]
     },
     "execution_count": 7,
     "metadata": {},
     "output_type": "execute_result"
    }
   ],
   "source": [
    "test_images.shape"
   ]
  },
  {
   "cell_type": "code",
   "execution_count": 8,
   "id": "74d14307",
   "metadata": {
    "execution": {
     "iopub.execute_input": "2022-08-02T04:20:02.074415Z",
     "iopub.status.busy": "2022-08-02T04:20:02.073668Z",
     "iopub.status.idle": "2022-08-02T04:20:02.081445Z",
     "shell.execute_reply": "2022-08-02T04:20:02.080063Z"
    },
    "papermill": {
     "duration": 0.020412,
     "end_time": "2022-08-02T04:20:02.084198",
     "exception": false,
     "start_time": "2022-08-02T04:20:02.063786",
     "status": "completed"
    },
    "tags": []
   },
   "outputs": [
    {
     "data": {
      "text/plain": [
       "10000"
      ]
     },
     "execution_count": 8,
     "metadata": {},
     "output_type": "execute_result"
    }
   ],
   "source": [
    "len(test_labels)"
   ]
  },
  {
   "cell_type": "code",
   "execution_count": 9,
   "id": "3d826cb5",
   "metadata": {
    "execution": {
     "iopub.execute_input": "2022-08-02T04:20:02.102782Z",
     "iopub.status.busy": "2022-08-02T04:20:02.102339Z",
     "iopub.status.idle": "2022-08-02T04:20:02.435156Z",
     "shell.execute_reply": "2022-08-02T04:20:02.434023Z"
    },
    "papermill": {
     "duration": 0.34507,
     "end_time": "2022-08-02T04:20:02.437752",
     "exception": false,
     "start_time": "2022-08-02T04:20:02.092682",
     "status": "completed"
    },
    "tags": []
   },
   "outputs": [
    {
     "data": {
      "image/png": "[encoded data removed]",
      "text/plain": [
       "<Figure size 432x288 with 2 Axes>"
      ]
     },
     "metadata": {
      "needs_background": "light"
     },
     "output_type": "display_data"
    }
   ],
   "source": [
    "plt.figure()\n",
    "plt.imshow(train_images[0])\n",
    "plt.colorbar()\n",
    "plt.grid(False)\n",
    "plt.show()"
   ]
  },
  {
   "cell_type": "code",
   "execution_count": 10,
   "id": "cdcf4dc0",
   "metadata": {
    "execution": {
     "iopub.execute_input": "2022-08-02T04:20:02.457617Z",
     "iopub.status.busy": "2022-08-02T04:20:02.457185Z",
     "iopub.status.idle": "2022-08-02T04:20:02.673723Z",
     "shell.execute_reply": "2022-08-02T04:20:02.672578Z"
    },
    "papermill": {
     "duration": 0.23029,
     "end_time": "2022-08-02T04:20:02.676652",
     "exception": false,
     "start_time": "2022-08-02T04:20:02.446362",
     "status": "completed"
    },
    "tags": []
   },
   "outputs": [],
   "source": [
    "train_images = train_images/255.0\n",
    "test_images = test_images/255.0"
   ]
  },
  {
   "cell_type": "code",
   "execution_count": 11,
   "id": "e619a823",
   "metadata": {
    "execution": {
     "iopub.execute_input": "2022-08-02T04:20:02.695617Z",
     "iopub.status.busy": "2022-08-02T04:20:02.695161Z",
     "iopub.status.idle": "2022-08-02T04:20:04.006758Z",
     "shell.execute_reply": "2022-08-02T04:20:04.005364Z"
    },
    "papermill": {
     "duration": 1.323998,
     "end_time": "2022-08-02T04:20:04.009276",
     "exception": false,
     "start_time": "2022-08-02T04:20:02.685278",
     "status": "completed"
    },
    "tags": []
   },
   "outputs": [
    {
     "data": {
      "image/png": "[encoded data removed]",
      "text/plain": [
       "<Figure size 720x720 with 25 Axes>"
      ]
     },
     "metadata": {},
     "output_type": "display_data"
    }
   ],
   "source": [
    "plt.figure(figsize=(10, 10))\n",
    "for i in range(25):\n",
    "    plt.subplot(5,5,i+1)\n",
    "    plt.xticks([])\n",
    "    plt.yticks([])\n",
    "    plt.grid(False)\n",
    "    plt.imshow(train_images[i], cmap=plt.cm.binary)\n",
    "    plt.xlabel(class_names[train_labels[i]])\n",
    "    \n",
    "plt.show()"
   ]
  },
  {
   "cell_type": "code",
   "execution_count": 12,
   "id": "ae90b475",
   "metadata": {
    "execution": {
     "iopub.execute_input": "2022-08-02T04:20:04.030508Z",
     "iopub.status.busy": "2022-08-02T04:20:04.029657Z",
     "iopub.status.idle": "2022-08-02T04:20:04.155179Z",
     "shell.execute_reply": "2022-08-02T04:20:04.154197Z"
    },
    "papermill": {
     "duration": 0.138797,
     "end_time": "2022-08-02T04:20:04.157545",
     "exception": false,
     "start_time": "2022-08-02T04:20:04.018748",
     "status": "completed"
    },
    "tags": []
   },
   "outputs": [
    {
     "name": "stderr",
     "output_type": "stream",
     "text": [
      "2022-08-02 04:20:04.080714: I tensorflow/core/common_runtime/process_util.cc:146] Creating new thread pool with default inter op setting: 2. Tune using inter_op_parallelism_threads for best performance.\n"
     ]
    }
   ],
   "source": [
    "model = tf.keras.Sequential([\n",
    "    tf.keras.layers.Flatten(input_shape=(28, 28)),\n",
    "    tf.keras.layers.Dense(128, activation='relu'),\n",
    "    tf.keras.layers.Dense(10)\n",
    "])"
   ]
  },
  {
   "cell_type": "code",
   "execution_count": 13,
   "id": "a97e2a18",
   "metadata": {
    "execution": {
     "iopub.execute_input": "2022-08-02T04:20:04.178212Z",
     "iopub.status.busy": "2022-08-02T04:20:04.177589Z",
     "iopub.status.idle": "2022-08-02T04:20:04.191326Z",
     "shell.execute_reply": "2022-08-02T04:20:04.190403Z"
    },
    "papermill": {
     "duration": 0.0268,
     "end_time": "2022-08-02T04:20:04.193588",
     "exception": false,
     "start_time": "2022-08-02T04:20:04.166788",
     "status": "completed"
    },
    "tags": []
   },
   "outputs": [],
   "source": [
    "model.compile(optimizer='adam',\n",
    "             loss=tf.keras.losses.SparseCategoricalCrossentropy(from_logits=True),\n",
    "             metrics=['accuracy'])"
   ]
  },
  {
   "cell_type": "code",
   "execution_count": 14,
   "id": "f52e9a39",
   "metadata": {
    "execution": {
     "iopub.execute_input": "2022-08-02T04:20:04.214125Z",
     "iopub.status.busy": "2022-08-02T04:20:04.213425Z",
     "iopub.status.idle": "2022-08-02T04:21:27.002512Z",
     "shell.execute_reply": "2022-08-02T04:21:27.001478Z"
    },
    "papermill": {
     "duration": 82.86087,
     "end_time": "2022-08-02T04:21:27.063791",
     "exception": false,
     "start_time": "2022-08-02T04:20:04.202921",
     "status": "completed"
    },
    "tags": []
   },
   "outputs": [
    {
     "name": "stderr",
     "output_type": "stream",
     "text": [
      "2022-08-02 04:20:04.578160: I tensorflow/compiler/mlir/mlir_graph_optimization_pass.cc:185] None of the MLIR Optimization Passes are enabled (registered 2)\n"
     ]
    },
    {
     "name": "stdout",
     "output_type": "stream",
     "text": [
      "Epoch 1/10\n",
      "1875/1875 [==============================] - 5s 3ms/step - loss: 0.4981 - accuracy: 0.8238\n",
      "Epoch 2/10\n",
      "1875/1875 [==============================] - 4s 2ms/step - loss: 0.3734 - accuracy: 0.8657\n",
      "Epoch 3/10\n",
      "1875/1875 [==============================] - 4s 2ms/step - loss: 0.3346 - accuracy: 0.8779\n",
      "Epoch 4/10\n",
      "1875/1875 [==============================] - 4s 2ms/step - loss: 0.3117 - accuracy: 0.8849\n",
      "Epoch 5/10\n",
      "1875/1875 [==============================] - 4s 2ms/step - loss: 0.2936 - accuracy: 0.8914\n",
      "Epoch 6/10\n",
      "1875/1875 [==============================] - 4s 2ms/step - loss: 0.2780 - accuracy: 0.8971\n",
      "Epoch 7/10\n",
      "1875/1875 [==============================] - 4s 2ms/step - loss: 0.2673 - accuracy: 0.9012\n",
      "Epoch 8/10\n",
      "1875/1875 [==============================] - 4s 2ms/step - loss: 0.2562 - accuracy: 0.9046\n",
      "Epoch 9/10\n",
      "1875/1875 [==============================] - 5s 3ms/step - loss: 0.2469 - accuracy: 0.9076\n",
      "Epoch 10/10\n",
      "1875/1875 [==============================] - 4s 2ms/step - loss: 0.2372 - accuracy: 0.9104\n"
     ]
    },
    {
     "data": {
      "text/plain": [
       "<keras.callbacks.History at 0x7f41367529d0>"
      ]
     },
     "execution_count": 14,
     "metadata": {},
     "output_type": "execute_result"
    }
   ],
   "source": [
    "model.fit(train_images, train_labels, epochs=10)"
   ]
  },
  {
   "cell_type": "code",
   "execution_count": 15,
   "id": "bd74c24e",
   "metadata": {
    "execution": {
     "iopub.execute_input": "2022-08-02T04:21:27.186554Z",
     "iopub.status.busy": "2022-08-02T04:21:27.185651Z",
     "iopub.status.idle": "2022-08-02T04:21:28.088119Z",
     "shell.execute_reply": "2022-08-02T04:21:28.086633Z"
    },
    "papermill": {
     "duration": 0.968536,
     "end_time": "2022-08-02T04:21:28.091463",
     "exception": false,
     "start_time": "2022-08-02T04:21:27.122927",
     "status": "completed"
    },
    "tags": []
   },
   "outputs": [
    {
     "name": "stdout",
     "output_type": "stream",
     "text": [
      "313/313 - 1s - loss: 0.3498 - accuracy: 0.8825\n"
     ]
    }
   ],
   "source": [
    "test_loss, test_acc = model.evaluate(test_images, test_labels, verbose=2)"
   ]
  },
  {
   "cell_type": "code",
   "execution_count": 16,
   "id": "1d0e433d",
   "metadata": {
    "execution": {
     "iopub.execute_input": "2022-08-02T04:21:28.212696Z",
     "iopub.status.busy": "2022-08-02T04:21:28.211850Z",
     "iopub.status.idle": "2022-08-02T04:21:28.235634Z",
     "shell.execute_reply": "2022-08-02T04:21:28.234568Z"
    },
    "papermill": {
     "duration": 0.087725,
     "end_time": "2022-08-02T04:21:28.238454",
     "exception": false,
     "start_time": "2022-08-02T04:21:28.150729",
     "status": "completed"
    },
    "tags": []
   },
   "outputs": [],
   "source": [
    "probability_model = tf.keras.Sequential([model, \n",
    "                                         tf.keras.layers.Softmax()])"
   ]
  },
  {
   "cell_type": "code",
   "execution_count": 17,
   "id": "a1dcded1",
   "metadata": {
    "execution": {
     "iopub.execute_input": "2022-08-02T04:21:28.357842Z",
     "iopub.status.busy": "2022-08-02T04:21:28.357442Z",
     "iopub.status.idle": "2022-08-02T04:21:28.849955Z",
     "shell.execute_reply": "2022-08-02T04:21:28.848751Z"
    },
    "papermill": {
     "duration": 0.556061,
     "end_time": "2022-08-02T04:21:28.852948",
     "exception": false,
     "start_time": "2022-08-02T04:21:28.296887",
     "status": "completed"
    },
    "tags": []
   },
   "outputs": [],
   "source": [
    "predictions = probability_model.predict(test_images)"
   ]
  },
  {
   "cell_type": "code",
   "execution_count": 18,
   "id": "42031653",
   "metadata": {
    "execution": {
     "iopub.execute_input": "2022-08-02T04:21:28.973209Z",
     "iopub.status.busy": "2022-08-02T04:21:28.972784Z",
     "iopub.status.idle": "2022-08-02T04:21:28.980944Z",
     "shell.execute_reply": "2022-08-02T04:21:28.979571Z"
    },
    "papermill": {
     "duration": 0.071185,
     "end_time": "2022-08-02T04:21:28.983444",
     "exception": false,
     "start_time": "2022-08-02T04:21:28.912259",
     "status": "completed"
    },
    "tags": []
   },
   "outputs": [
    {
     "data": {
      "text/plain": [
       "array([4.7201745e-09, 9.3095384e-12, 4.3185547e-10, 5.4121685e-10,\n",
       "       3.0856474e-11, 3.6016270e-05, 8.7705438e-08, 5.0820952e-04,\n",
       "       1.1989731e-07, 9.9945551e-01], dtype=float32)"
      ]
     },
     "execution_count": 18,
     "metadata": {},
     "output_type": "execute_result"
    }
   ],
   "source": [
    "predictions[0]"
   ]
  },
  {
   "cell_type": "code",
   "execution_count": 19,
   "id": "c07f3402",
   "metadata": {
    "execution": {
     "iopub.execute_input": "2022-08-02T04:21:29.104911Z",
     "iopub.status.busy": "2022-08-02T04:21:29.104171Z",
     "iopub.status.idle": "2022-08-02T04:21:29.112017Z",
     "shell.execute_reply": "2022-08-02T04:21:29.110898Z"
    },
    "papermill": {
     "duration": 0.071332,
     "end_time": "2022-08-02T04:21:29.114340",
     "exception": false,
     "start_time": "2022-08-02T04:21:29.043008",
     "status": "completed"
    },
    "tags": []
   },
   "outputs": [
    {
     "data": {
      "text/plain": [
       "9"
      ]
     },
     "execution_count": 19,
     "metadata": {},
     "output_type": "execute_result"
    }
   ],
   "source": [
    "np.argmax(predictions[0])"
   ]
  },
  {
   "cell_type": "code",
   "execution_count": 20,
   "id": "1f94e3f5",
   "metadata": {
    "execution": {
     "iopub.execute_input": "2022-08-02T04:21:29.235555Z",
     "iopub.status.busy": "2022-08-02T04:21:29.234533Z",
     "iopub.status.idle": "2022-08-02T04:21:29.243311Z",
     "shell.execute_reply": "2022-08-02T04:21:29.242204Z"
    },
    "papermill": {
     "duration": 0.072455,
     "end_time": "2022-08-02T04:21:29.245930",
     "exception": false,
     "start_time": "2022-08-02T04:21:29.173475",
     "status": "completed"
    },
    "tags": []
   },
   "outputs": [
    {
     "data": {
      "text/plain": [
       "9"
      ]
     },
     "execution_count": 20,
     "metadata": {},
     "output_type": "execute_result"
    }
   ],
   "source": [
    "test_labels[0]"
   ]
  },
  {
   "cell_type": "code",
   "execution_count": 21,
   "id": "4a02c043",
   "metadata": {
    "execution": {
     "iopub.execute_input": "2022-08-02T04:21:29.371177Z",
     "iopub.status.busy": "2022-08-02T04:21:29.370329Z",
     "iopub.status.idle": "2022-08-02T04:21:29.447101Z",
     "shell.execute_reply": "2022-08-02T04:21:29.445174Z"
    },
    "papermill": {
     "duration": 0.144245,
     "end_time": "2022-08-02T04:21:29.451826",
     "exception": false,
     "start_time": "2022-08-02T04:21:29.307581",
     "status": "completed"
    },
    "tags": []
   },
   "outputs": [
    {
     "data": {
      "text/plain": [
       "([], [])"
      ]
     },
     "execution_count": 21,
     "metadata": {},
     "output_type": "execute_result"
    },
    {
     "data": {
      "image/png": "[encoded data removed]",
      "text/plain": [
       "<Figure size 432x288 with 1 Axes>"
      ]
     },
     "metadata": {},
     "output_type": "display_data"
    }
   ],
   "source": [
    "plt.grid(True)\n",
    "plt.xticks([])\n",
    "plt.yticks([])"
   ]
  },
  {
   "cell_type": "code",
   "execution_count": 22,
   "id": "ab0c6c3a",
   "metadata": {
    "execution": {
     "iopub.execute_input": "2022-08-02T04:21:29.632043Z",
     "iopub.status.busy": "2022-08-02T04:21:29.631603Z",
     "iopub.status.idle": "2022-08-02T04:21:29.641185Z",
     "shell.execute_reply": "2022-08-02T04:21:29.640337Z"
    },
    "papermill": {
     "duration": 0.073146,
     "end_time": "2022-08-02T04:21:29.643375",
     "exception": false,
     "start_time": "2022-08-02T04:21:29.570229",
     "status": "completed"
    },
    "tags": []
   },
   "outputs": [],
   "source": [
    "def plot_image(i, predictions_array, true_label, img):\n",
    "  true_label, img = true_label[i], img[i]\n",
    "  plt.grid(False)\n",
    "  plt.xticks([])\n",
    "  plt.yticks([])\n",
    "\n",
    "  plt.imshow(img, cmap=plt.cm.binary)\n",
    "\n",
    "  predicted_label = np.argmax(predictions_array)\n",
    "  if predicted_label == true_label:\n",
    "    color = 'blue'\n",
    "  else:\n",
    "    color = 'red'\n",
    "\n",
    "  plt.xlabel(\"{} {:2.0f}% ({})\".format(class_names[predicted_label],\n",
    "                                100*np.max(predictions_array),\n",
    "                                class_names[true_label]),\n",
    "                                color=color)\n",
    "\n",
    "def plot_value_array(i, predictions_array, true_label):\n",
    "  true_label = true_label[i]\n",
    "  plt.grid(False)\n",
    "  plt.xticks(range(10))\n",
    "  plt.yticks([])\n",
    "  thisplot = plt.bar(range(10), predictions_array, color=\"#777777\")\n",
    "  plt.ylim([0, 1])\n",
    "  predicted_label = np.argmax(predictions_array)\n",
    "\n",
    "  thisplot[predicted_label].set_color('red')\n",
    "  thisplot[true_label].set_color('blue')"
   ]
  },
  {
   "cell_type": "code",
   "execution_count": 23,
   "id": "ea225c87",
   "metadata": {
    "execution": {
     "iopub.execute_input": "2022-08-02T04:21:29.768512Z",
     "iopub.status.busy": "2022-08-02T04:21:29.767225Z",
     "iopub.status.idle": "2022-08-02T04:21:29.990500Z",
     "shell.execute_reply": "2022-08-02T04:21:29.988376Z"
    },
    "papermill": {
     "duration": 0.291966,
     "end_time": "2022-08-02T04:21:29.995684",
     "exception": false,
     "start_time": "2022-08-02T04:21:29.703718",
     "status": "completed"
    },
    "tags": []
   },
   "outputs": [
    {
     "data": {
      "image/png": "[encoded data removed]",
      "text/plain": [
       "<Figure size 432x216 with 2 Axes>"
      ]
     },
     "metadata": {
      "needs_background": "light"
     },
     "output_type": "display_data"
    }
   ],
   "source": [
    "i = 0\n",
    "plt.figure(figsize=(6,3))\n",
    "plt.subplot(1,2,1)\n",
    "plot_image(i, predictions[i], test_labels, test_images)\n",
    "plt.subplot(1,2,2)\n",
    "plot_value_array(i, predictions[i],  test_labels)\n",
    "plt.show()"
   ]
  },
  {
   "cell_type": "code",
   "execution_count": 24,
   "id": "77a96aed",
   "metadata": {
    "execution": {
     "iopub.execute_input": "2022-08-02T04:21:30.131624Z",
     "iopub.status.busy": "2022-08-02T04:21:30.130557Z",
     "iopub.status.idle": "2022-08-02T04:21:30.356326Z",
     "shell.execute_reply": "2022-08-02T04:21:30.354051Z"
    },
    "papermill": {
     "duration": 0.29361,
     "end_time": "2022-08-02T04:21:30.363182",
     "exception": false,
     "start_time": "2022-08-02T04:21:30.069572",
     "status": "completed"
    },
    "tags": []
   },
   "outputs": [
    {
     "data": {
      "image/png": "[encoded data removed]",
      "text/plain": [
       "<Figure size 432x216 with 2 Axes>"
      ]
     },
     "metadata": {
      "needs_background": "light"
     },
     "output_type": "display_data"
    }
   ],
   "source": [
    "i = 12\n",
    "plt.figure(figsize=(6,3))\n",
    "plt.subplot(1,2,1)\n",
    "plot_image(i, predictions[i], test_labels, test_images)\n",
    "plt.subplot(1,2,2)\n",
    "plot_value_array(i, predictions[i],  test_labels)\n",
    "plt.show()"
   ]
  },
  {
   "cell_type": "code",
   "execution_count": 25,
   "id": "75d1a85b",
   "metadata": {
    "execution": {
     "iopub.execute_input": "2022-08-02T04:21:30.498615Z",
     "iopub.status.busy": "2022-08-02T04:21:30.497256Z",
     "iopub.status.idle": "2022-08-02T04:21:34.244128Z",
     "shell.execute_reply": "2022-08-02T04:21:34.242682Z"
    },
    "papermill": {
     "duration": 3.810955,
     "end_time": "2022-08-02T04:21:34.246797",
     "exception": false,
     "start_time": "2022-08-02T04:21:30.435842",
     "status": "completed"
    },
    "tags": []
   },
   "outputs": [
    {
     "data": {
      "image/png": "[encoded data removed]",
      "text/plain": [
       "<Figure size 1152x720 with 40 Axes>"
      ]
     },
     "metadata": {
      "needs_background": "light"
     },
     "output_type": "display_data"
    }
   ],
   "source": [
    "# Plot the first X test images, their predicted labels, and the true labels.\n",
    "# Color correct predictions in blue and incorrect predictions in red.\n",
    "num_rows = 5\n",
    "num_cols = 4\n",
    "num_images = num_rows*num_cols\n",
    "plt.figure(figsize=(2*2*num_cols, 2*num_rows))\n",
    "for i in range(num_images):\n",
    "  plt.subplot(num_rows, 2*num_cols, 2*i+1)\n",
    "  plot_image(i, predictions[i], test_labels, test_images)\n",
    "  plt.subplot(num_rows, 2*num_cols, 2*i+2)\n",
    "  plot_value_array(i, predictions[i], test_labels)\n",
    "plt.tight_layout()\n",
    "plt.show()"
   ]
  },
  {
   "cell_type": "code",
   "execution_count": null,
   "id": "a70eb0e6",
   "metadata": {
    "papermill": {
     "duration": 0.060915,
     "end_time": "2022-08-02T04:21:34.368521",
     "exception": false,
     "start_time": "2022-08-02T04:21:34.307606",
     "status": "completed"
    },
    "tags": []
   },
   "outputs": [],
   "source": []
  }
 ],
 "metadata": {
  "kernelspec": {
   "display_name": "Python 3",
   "language": "python",
   "name": "python3"
  },
  "language_info": {
   "codemirror_mode": {
    "name": "ipython",
    "version": 3
   },
   "file_extension": ".py",
   "mimetype": "text/x-python",
   "name": "python",
   "nbconvert_exporter": "python",
   "pygments_lexer": "ipython3",
   "version": "3.7.12"
  },
  "papermill": {
   "default_parameters": {},
   "duration": 114.033347,
   "end_time": "2022-08-02T04:21:37.564721",
   "environment_variables": {},
   "exception": null,
   "input_path": "__notebook__.ipynb",
   "output_path": "__notebook__.ipynb",
   "parameters": {},
   "start_time": "2022-08-02T04:19:43.531374",
   "version": "2.3.4"
  }
 },
 "nbformat": 4,
 "nbformat_minor": 5
}
